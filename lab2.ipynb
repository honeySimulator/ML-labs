{
  "nbformat": 4,
  "nbformat_minor": 0,
  "metadata": {
    "hide_input": false,
    "kernelspec": {
      "display_name": "Python 3",
      "language": "python",
      "name": "python3"
    },
    "language_info": {
      "codemirror_mode": {
        "name": "ipython",
        "version": 3
      },
      "file_extension": ".py",
      "mimetype": "text/x-python",
      "name": "python",
      "nbconvert_exporter": "python",
      "pygments_lexer": "ipython3",
      "version": "3.7.1"
    },
    "toc": {
      "base_numbering": 1,
      "nav_menu": {},
      "number_sections": true,
      "sideBar": true,
      "skip_h1_title": false,
      "title_cell": "Table of Contents",
      "title_sidebar": "Contents",
      "toc_cell": true,
      "toc_position": {},
      "toc_section_display": true,
      "toc_window_display": false
    },
    "varInspector": {
      "cols": {
        "lenName": 16,
        "lenType": 16,
        "lenVar": 40
      },
      "kernels_config": {
        "python": {
          "delete_cmd_postfix": "",
          "delete_cmd_prefix": "del ",
          "library": "var_list.py",
          "varRefreshCmd": "print(var_dic_list())"
        },
        "r": {
          "delete_cmd_postfix": ") ",
          "delete_cmd_prefix": "rm(",
          "library": "var_list.r",
          "varRefreshCmd": "cat(var_dic_list()) "
        }
      },
      "types_to_exclude": [
        "module",
        "function",
        "builtin_function_or_method",
        "instance",
        "_Feature"
      ],
      "window_display": false
    },
    "colab": {
      "provenance": [],
      "collapsed_sections": []
    }
  },
  "cells": [
    {
      "cell_type": "code",
      "metadata": {
        "ExecuteTime": {
          "end_time": "2020-04-23T10:16:05.965275Z",
          "start_time": "2020-04-23T10:16:05.312704Z"
        },
        "id": "bZ7J0si68JdT"
      },
      "source": [
        "import pandas as pd\n",
        "import numpy as np"
      ],
      "execution_count": null,
      "outputs": []
    },
    {
      "cell_type": "markdown",
      "metadata": {
        "id": "xjvL0IIG8Jd0"
      },
      "source": [
        "## Задание 0\n"
      ]
    },
    {
      "cell_type": "markdown",
      "metadata": {
        "id": "yaSxXHvxO0qo"
      },
      "source": [
        "Для всех  заданий будем использовать обезличенные транзакционные банковские данные. Для этого считайте в переменные **tr_mcc_codes, tr_types, transactions и gender_train** из одноимённых таблиц из папки [data](https://drive.google.com/drive/folders/1YAMe7MiTxA-RSSd8Ex2p-L0Dspe6Gs4L). \n",
        "\n",
        "Для таблицы transactions используйте только первые n=1000000 строк. При чтении файлов обратите внимание на разделители внутри каждого из файлов - они могут различаться!"
      ]
    },
    {
      "cell_type": "code",
      "source": [
        "from google.colab import drive\n",
        "drive.mount('/content/drive')"
      ],
      "metadata": {
        "id": "eeQXXphikP_k",
        "colab": {
          "base_uri": "https://localhost:8080/"
        },
        "outputId": "b1b58f43-6de1-465c-cae9-cd4fffeaf82d"
      },
      "execution_count": null,
      "outputs": [
        {
          "output_type": "stream",
          "name": "stdout",
          "text": [
            "Mounted at /content/drive\n"
          ]
        }
      ]
    },
    {
      "cell_type": "code",
      "source": [
        "transactions = pd.read_csv(filepath_or_buffer = \"/content/drive/MyDrive/Data/transactions.csv\", nrows = 1000000,\n",
        "            sep = ',')\n",
        "tr_types = pd.read_csv(filepath_or_buffer = \"/content/drive/MyDrive/Data/tr_types.csv\",\n",
        "            sep = ';')\n",
        "tr_mcc_codes = pd.read_csv(filepath_or_buffer = \"/content/drive/MyDrive/Data/tr_mcc_codes.csv\",\n",
        "            sep = ';')\n",
        "gender_train = pd.read_csv(filepath_or_buffer = \"/content/drive/MyDrive/Data/gender_train.csv\",\n",
        "            sep = ',')"
      ],
      "metadata": {
        "id": "vulrlDX10LZO"
      },
      "execution_count": null,
      "outputs": []
    },
    {
      "cell_type": "markdown",
      "metadata": {
        "id": "oP3lX9xC8Jd8"
      },
      "source": [
        "###  Описание данных\n",
        "#### Таблица ```transactions.csv```\n",
        "##### Описание\n",
        "Таблица содержит историю транзакций клиентов банка за один год и три месяца.\n",
        "\n",
        "##### Формат данных\n",
        "\n",
        "```\n",
        "customer_id,tr_datetime,mcc_code,tr_type,amount,term_id\n",
        "111111,15 01:40:52,1111,1000,-5224,111111\n",
        "111112,15 15:18:32,3333,2000,-100,11122233\n",
        "...\n",
        "```\n",
        "##### Описание полей\n",
        "\n",
        " - ```customer_id``` — идентификатор клиента;\n",
        " - ```tr_datetime``` — день и время совершения транзакции (дни нумеруются с начала данных);\n",
        " - ```mcc_code``` — mcc-код транзакции;\n",
        " - ```tr_type``` — тип транзакции;\n",
        " - ```amount``` — сумма транзакции в условных единицах со знаком; ```+``` — начисление средств клиенту (приходная транзакция), ```-``` — списание средств (расходная транзакция);\n",
        " - ```term_id``` — идентификатор терминала;\n",
        "\n",
        "\n",
        "#### Таблица ```gender_train.csv```\n",
        "\n",
        "##### Описание\n",
        "Данная таблица содержит информацию по полу для части клиентов, для которых он известен. Для остальных клиентов пол неизвестен.\n",
        "\n",
        "##### Формат данных\n",
        "```\n",
        "customer_id,gender\n",
        "111111,0\n",
        "111112,1\n",
        "...\n",
        "```\n",
        "\n",
        "##### Описание полей\n",
        " - ```customer_id``` — идентификатор клиента;\n",
        " - ```gender``` — пол клиента;\n",
        "\n",
        "### Таблица ```tr_mcc_codes.csv```\n",
        "\n",
        "##### Описание\n",
        "Данная таблица содержит описание mcc-кодов транзакций.\n",
        "\n",
        "##### Формат данных\n",
        "```\n",
        "mcc_code;mcc_description\n",
        "1000;словесное описание mcc-кода 1000\n",
        "2000;словесное описание mcc-кода 2000\n",
        "...\n",
        "```\n",
        "\n",
        "##### Описание полей\n",
        " - ```mcc_code``` – mcc-код транзакции;\n",
        " - ```mcc_description``` — описание mcc-кода транзакции.\n",
        "\n",
        "#### Таблица ```tr_types.csv```\n",
        "\n",
        "##### Описание\n",
        "Данная таблица содержит описание типов транзакций.\n",
        "\n",
        "##### Формат данных\n",
        "```\n",
        "tr_type;tr_description\n",
        "1000;словесное описание типа транзакции 1000\n",
        "2000;словесное описание типа транзакции 2000\n",
        "...\n",
        "```\n",
        "\n",
        "##### Описание полей\n",
        " - ```tr_type``` – тип транзакции;\n",
        " - ```tr_description``` — описание типа транзакции;"
      ]
    },
    {
      "cell_type": "markdown",
      "metadata": {
        "id": "04CYsBKz8JeB"
      },
      "source": [
        "\n",
        "Задания 1-4 делаются без использования merge!\n",
        "\n",
        "## Задание 1\n",
        "\n"
      ]
    },
    {
      "cell_type": "markdown",
      "metadata": {
        "id": "1hcrfwsYN_Yz"
      },
      "source": [
        "1. Для столбца tr_type датафрейма transactions выберите произвольные 1000 строк с помощью метода sample\n",
        "2. В полученной на предыдущем этапе подвыборке найдите долю транзакций (стобец tr_description в датасете tr_types), в которой содержится подстрока 'POS' или 'ATM'\n"
      ]
    },
    {
      "cell_type": "code",
      "source": [
        "# transactions - содержит историю транзакций клиентов банка за 1 год и 3 месяца.\n",
        "# customer_id,tr_datetime,mcc_code,tr_type,amount,term_id\n",
        "\n",
        "# gender_train - инф по полу для части клиентов. Для остальных клиентов пол неизвестен.\n",
        "# customer_id,gender\n",
        "\n",
        "# tr_mcc_codes - содержит описание mcc-кодов транзакций.\n",
        "# mcc_code;mcc_description\n",
        "\n",
        "# tr_types - содержит описание типов транзакций.\n",
        "# tr_type;tr_description\n",
        "\n",
        "sample1000 = transactions['tr_type'].sample(n=1000)\n",
        "count_sample = sample1000.count()\n",
        "n1 = tr_types[(tr_types[\"tr_description\"].str.contains(\"POS\")) | (tr_types[\"tr_description\"].str.contains(\"АТМ\"))]\n",
        "# n2 = n1[\"tr_type\"].count()\n",
        "n3 = sample1000.isin(n1[\"tr_type\"]).sum()\n",
        "print(\"ответ:\", n3/count_sample)\n",
        "\n"
      ],
      "metadata": {
        "colab": {
          "base_uri": "https://localhost:8080/"
        },
        "id": "SNsySg_hdRVv",
        "outputId": "20f839be-2c39-4697-ad54-d423162fc4e7"
      },
      "execution_count": null,
      "outputs": [
        {
          "output_type": "stream",
          "name": "stdout",
          "text": [
            "ответ: 0.607\n"
          ]
        }
      ]
    },
    {
      "cell_type": "markdown",
      "metadata": {
        "id": "fiZBDIZt8JeS"
      },
      "source": [
        "## Задание 2 \n"
      ]
    },
    {
      "cell_type": "markdown",
      "metadata": {
        "id": "FFKeBUThOCrz"
      },
      "source": [
        "1. Для столбца tr_type датафрейма transactions посчитайте частоту встречаемости всех типов транзакций tr_type в transactions.\n",
        "2. Выведите топ-10 транзакций по частоте встречаемости (вывести для них tr_description тоже)."
      ]
    },
    {
      "cell_type": "code",
      "source": [
        "n2 = transactions[\"tr_type\"].unique() # 72\n",
        "n3 = transactions[\"tr_type\"].value_counts()\n",
        "# print(n3.sort_values(ascending=False).head(10))\n",
        "n3 = n3.sort_values(ascending=False).head(10)\n",
        "# print(n3)\n",
        "n3 = n3.sort_index()\n",
        "# print(n3)\n",
        "n4 = pd.DataFrame(tr_types[tr_types[\"tr_type\"].isin(n3.index)])\n",
        "# print(n4)\n",
        "n4 = n4.sort_values(by=\"tr_type\")\n",
        "# print(n4)\n",
        "\n",
        "# Во втором пункте добавьте столбец с частотой встречаемости. Отсортируйте по убыванию частоты.\n",
        "n4[\"frequency\"] = np.where(n4[\"tr_type\"] == n3.index, n3.values,  n3.values)\n",
        "print(n4.sort_values(by=\"frequency\", ascending=False))\n"
      ],
      "metadata": {
        "colab": {
          "base_uri": "https://localhost:8080/"
        },
        "id": "i4suSwGYAOkY",
        "outputId": "e62ced77-dbf0-48cf-e58b-d20f6eb398cc"
      },
      "execution_count": null,
      "outputs": [
        {
          "output_type": "stream",
          "name": "stdout",
          "text": [
            "     tr_type                                     tr_description  frequency\n",
            "98      1010                              Покупка. POS ТУ СБ РФ     231117\n",
            "106     2010              Выдача наличных в АТМ Сбербанк России     151166\n",
            "59      7070  Перевод на карту (с карты) через Мобильный бан...     149006\n",
            "101     1110                             Покупка. POS ТУ Россия     137658\n",
            "99      1030                     Оплата услуги. Банкоматы СБ РФ     118975\n",
            "129     2370  Списание с карты на карту по операции <перевод...      49830\n",
            "39      7010       Взнос наличных через АТМ (в своем тер.банке)      28972\n",
            "47      7030  Перевод на карту (с карты) через АТМ (в предел...      26078\n",
            "60      7071  Перевод на карту (с карты) через Мобильный бан...      15781\n",
            "100     1100                                Покупка. ТУ  Россия      15476\n"
          ]
        }
      ]
    },
    {
      "cell_type": "markdown",
      "metadata": {
        "id": "mktm_JeA8JeX"
      },
      "source": [
        "## Задание 3\n",
        "1. В датафрейме transactions найдите клиента с максимальной суммой приходов на карту\n",
        "2. В датафрейме transactions найдите клиента с максимальной суммой расходов по карте\n",
        "3. Найдите модуль разницы для этих клиентов между суммой расходов и суммой приходов"
      ]
    },
    {
      "cell_type": "code",
      "source": [
        "groups1 = transactions[[\"customer_id\", \"amount\"]][transactions[\"amount\"] > 0]\n",
        "# print(groups1)\n",
        "groups_income = groups1.groupby(\"customer_id\").sum()\n",
        "# print(groups_income.head(10))\n",
        "groups_income = groups_income.sort_values(by = \"amount\", ascending=False).head(1)\n",
        "print(groups_income.index.item()) \n",
        "\n",
        "groups2 = transactions[[\"customer_id\", \"amount\"]][transactions[\"amount\"] < 0]\n",
        "groups_waste = groups2.groupby(\"customer_id\").sum()\n",
        "groups_waste = groups_waste.sort_values(by = \"amount\").head(1)\n",
        "print(groups_waste.index.item()) \n",
        "\n",
        "answer = abs(groups_income.values.item() - abs(groups_waste.values.item()))\n",
        "print(answer)\n"
      ],
      "metadata": {
        "colab": {
          "base_uri": "https://localhost:8080/"
        },
        "id": "J2XzVdiMWC8t",
        "outputId": "5e69a5b2-2f63-49c7-92a7-2680392abc43"
      },
      "execution_count": null,
      "outputs": [
        {
          "output_type": "stream",
          "name": "stdout",
          "text": [
            "70780820\n",
            "70780820\n",
            "1837317.980000019\n"
          ]
        }
      ]
    },
    {
      "cell_type": "markdown",
      "metadata": {
        "id": "BYrJ5b_E8Jee"
      },
      "source": [
        "## Задание 4\n",
        "1. Найдите среднее арифметическое и медиану по amount по всем типам транзакций из топ 10 из задания 2\n",
        "1. Найдите среднее арифметическое и медиану по amount по всем типам транзакций для клиентов из задания 3"
      ]
    },
    {
      "cell_type": "code",
      "source": [
        "transactions_mean = transactions[[\"amount\", \"tr_type\"]][transactions[\"tr_type\"].isin(n3.index)].groupby([\"tr_type\"])[\"amount\"].mean().reset_index(name ='Mean')\n",
        "transactions_med = transactions[[\"amount\", \"tr_type\"]][transactions[\"tr_type\"].isin(n3.index)].groupby([\"tr_type\"])[\"amount\"].median().reset_index(name ='Median')\n",
        "print('transactions:\\n', transactions_mean)\n",
        "print(transactions_med)\n",
        "\n",
        "client_mean = transactions[[\"customer_id\", \"amount\", \"tr_type\"]][transactions[\"customer_id\"] == groups_waste.index.item()].groupby([\"tr_type\"])[\"amount\"].mean().reset_index(name ='Mean')\n",
        "client_med = transactions[[\"customer_id\", \"amount\", \"tr_type\"]][transactions[\"customer_id\"] == groups_waste.index.item()].groupby([\"tr_type\"])[\"amount\"].median().reset_index(name ='Median')\n",
        "\n",
        "print('client:\\n', client_mean)\n",
        "print(client_med)"
      ],
      "metadata": {
        "colab": {
          "base_uri": "https://localhost:8080/"
        },
        "id": "uMwj8rbf4qnl",
        "outputId": "ccf5e416-fca5-4afe-cec6-129abdb25ed6"
      },
      "execution_count": null,
      "outputs": [
        {
          "output_type": "stream",
          "name": "stdout",
          "text": [
            "transactions:\n",
            "    tr_type           Mean\n",
            "0     1010  -19784.748640\n",
            "1     1030   -5320.980222\n",
            "2     1100  -44061.827262\n",
            "3     1110  -32119.330371\n",
            "4     2010 -136077.629325\n",
            "5     2370 -205418.249032\n",
            "6     7010  276391.789596\n",
            "7     7030   86104.332909\n",
            "8     7070   65569.831700\n",
            "9     7071   66806.826623\n",
            "   tr_type     Median\n",
            "0     1010   -7411.52\n",
            "1     1030   -2245.92\n",
            "2     1100  -10188.26\n",
            "3     1110  -11207.57\n",
            "4     2010  -44918.32\n",
            "5     2370  -44918.32\n",
            "6     7010  112295.79\n",
            "7     7030   13951.52\n",
            "8     7070   11319.42\n",
            "9     7071    3593.47\n",
            "client:\n",
            "     tr_type          Mean\n",
            "0      2010 -2.941056e+06\n",
            "1      2330 -2.382398e+06\n",
            "2      2370 -2.218505e+06\n",
            "3      6110  1.756293e+04\n",
            "4      7020  1.465129e+04\n",
            "5      7021  2.850067e+04\n",
            "6      7030  1.406196e+04\n",
            "7      7031  1.921036e+04\n",
            "8      7034  1.430648e+04\n",
            "9      7040  2.153833e+04\n",
            "10     7070  1.384821e+04\n",
            "11     7071  1.860057e+04\n",
            "12     7074  2.281159e+04\n",
            "    tr_type       Median\n",
            "0      2010 -3368873.660\n",
            "1      2330 -2245915.770\n",
            "2      2370 -2245915.770\n",
            "3      6110    10028.010\n",
            "4      7020    10319.985\n",
            "5      7021    28500.670\n",
            "6      7030     8848.910\n",
            "7      7031    12992.620\n",
            "8      7034    14306.480\n",
            "9      7040    14396.320\n",
            "10     7070     8714.150\n",
            "11     7071    12543.440\n",
            "12     7074     9387.930\n"
          ]
        }
      ]
    },
    {
      "cell_type": "markdown",
      "metadata": {
        "id": "BYXwM4l3QDBu"
      },
      "source": [
        "## Подготовка для заданий 5-8"
      ]
    },
    {
      "cell_type": "markdown",
      "metadata": {
        "id": "XWQzFeKcQHRe"
      },
      "source": [
        "*Из заданий 5-8 нужно выполнить минимум два любых*\n",
        "\n",
        "Соедините transactions с всеми остальными таблицами (tr_mcc_codes, tr_types, gender_train). Причём с gender_train необходимо смёрджиться с помощью left join, а с оставшимися датафреймами - через inner.\n",
        "После получения результата таблицы gender_train, tr_types, tr_mcc_codes можно удалить. В результате соединения датафреймов должно получиться 999584 строки."
      ]
    },
    {
      "cell_type": "code",
      "metadata": {
        "id": "sndJxjJ7QQf5",
        "colab": {
          "base_uri": "https://localhost:8080/"
        },
        "outputId": "9aed7c59-d4d6-4f7e-92b7-3bd9986d79cf"
      },
      "source": [
        "transactions = pd.merge(transactions, gender_train, how='left')\n",
        "transactions = pd.merge(transactions, tr_mcc_codes, how='inner')\n",
        "transactions = pd.merge(transactions, tr_types, how='inner')\n",
        "transactions.shape"
      ],
      "execution_count": null,
      "outputs": [
        {
          "output_type": "execute_result",
          "data": {
            "text/plain": [
              "(999584, 9)"
            ]
          },
          "metadata": {},
          "execution_count": 30
        }
      ]
    },
    {
      "cell_type": "markdown",
      "metadata": {
        "id": "8vrFauJ8QgmT"
      },
      "source": [
        "## Задание 5"
      ]
    },
    {
      "cell_type": "markdown",
      "metadata": {
        "id": "rOjEQ5xyQfE_"
      },
      "source": [
        "1. Определите модуль разницы между средними тратами женщин и мужчин (трата - отрицательное значение amount).\n",
        "2. Определите модуль разницы между средними поступлениями у мужчин и женщин\n",
        "\n",
        "Обратите внимание, что для вычисления модуля разности точных знаний о том, \n",
        "какой класc относится к мужчинам, а какой - к женщинам, не требуется."
      ]
    },
    {
      "cell_type": "code",
      "source": [
        "groups = transactions.groupby(['gender'])\n",
        "g1 = groups.get_group(1)\n",
        "g2 = groups.get_group(0)\n",
        "g1_income = g1.amount.where((g1.amount > 0)).mean()\n",
        "g2_income = g2.amount.where((g2.amount > 0)).mean()\n",
        "g1_waste = g1.amount.where((g1.amount < 0)).mean()\n",
        "g2_waste = g2.amount.where((g2.amount < 0)).mean()\n",
        "print('Поступления:', abs(g1_income-g2_income))\n",
        "print('Траты:', abs(g1_waste-g2_waste))"
      ],
      "metadata": {
        "colab": {
          "base_uri": "https://localhost:8080/"
        },
        "id": "kTX4feCO7hGQ",
        "outputId": "3eca6818-e2da-4fcb-d676-27eecab654fd"
      },
      "execution_count": null,
      "outputs": [
        {
          "output_type": "stream",
          "name": "stdout",
          "text": [
            "Поступления: 63366.57104801462\n",
            "Траты: 32718.05492022462\n"
          ]
        }
      ]
    },
    {
      "cell_type": "markdown",
      "metadata": {
        "id": "DSHFLbepQ7G1"
      },
      "source": [
        "## Задание 6"
      ]
    },
    {
      "cell_type": "markdown",
      "metadata": {
        "id": "2EF1490bQ-17"
      },
      "source": [
        "1. По всем типам транзакций рассчитайте максимальную сумму прихода на карту (из строго положительных сумм по столбцу amount) отдельно для мужчин и женщин (назовите ее \"max_income\"). Оставьте по 10 типов транзакций для мужчин и для женщин, наименьших среди всех типов транзакций по полученным значениям \"max_income\". \n",
        "2. Выделите среди них те типы транзакций, которые встречаются одновременно и у мужчин, и у женщин"
      ]
    },
    {
      "cell_type": "markdown",
      "metadata": {
        "id": "W-LaVwRdR3UB"
      },
      "source": [
        "## Задание 7"
      ]
    },
    {
      "cell_type": "markdown",
      "metadata": {
        "id": "rhI4NOciR7e0"
      },
      "source": [
        "1. Найдите суммы затрат по каждой категории (mcc) для мужчин и для женщин. \n",
        "2. Найдите топ 10 категорий с самыми большими относительными модулями разности в тратах для разных полов (в ответе должны присутствовать описания mcc кодов)."
      ]
    },
    {
      "cell_type": "code",
      "source": [
        "wastes = transactions[[\"gender\", \"mcc_code\", \"amount\"]][transactions.amount < 0]\n",
        "wastes = wastes.groupby([\"gender\", \"mcc_code\"])[\"amount\"].sum()\n",
        "print(wastes)\n",
        "# print(wastes[0)\n",
        "# print(wastes[1])\n",
        "\n",
        "difference = abs(wastes[0] - wastes[1])\n",
        "difference = difference.sort_values(ascending=False).head(10)\n",
        "# print(difference)\n",
        "difference = difference.sort_index(ascending=False)\n",
        "\n",
        "\n",
        "difference_description = tr_mcc_codes[tr_mcc_codes.mcc_code.isin(difference.index)]\n",
        "difference_description = pd.DataFrame(difference_description.sort_values(by = \"mcc_code\", ascending=False))\n",
        "# Во втором пункте добавьте несколько столбцов: 1- столбец с модулем разности, \n",
        "difference_description[\"difference\"] = np.where(difference_description[\"mcc_code\"] == difference.index, difference.values,  difference.values)\n",
        "difference_description = difference_description.sort_values(by=\"difference\", ascending=False)\n",
        "print(difference_description)\n",
        "\n",
        "wastes = wastes.groupby([\"gender\", \"mcc_code\"])\n",
        "print(wastes.size())\n",
        "# gender = np.where(wastes[0] - wastes[1], )\n",
        "\n",
        "\n",
        "# 2 - столбец с полом, который совершает больше трат в данной категории, \n",
        "# 3 - столбец с часом в сутках, когда совершается максимальное количество трат в этой категории полом, найденным в пункте 2."
      ],
      "metadata": {
        "colab": {
          "base_uri": "https://localhost:8080/"
        },
        "id": "r-HdSUsuQwRe",
        "outputId": "17263992-6795-43ea-e571-ecb95af32695"
      },
      "execution_count": null,
      "outputs": [
        {
          "output_type": "stream",
          "name": "stdout",
          "text": [
            "gender  mcc_code\n",
            "0.0     742          -386207.68\n",
            "        1711         -674897.69\n",
            "        1799         -261626.73\n",
            "        2741          -20746.42\n",
            "        3000       -74431645.27\n",
            "                       ...     \n",
            "1.0     8999       -28643346.63\n",
            "        9222         -988205.17\n",
            "        9311         -373271.22\n",
            "        9399        -1810820.67\n",
            "        9402           -4581.67\n",
            "Name: amount, Length: 349, dtype: float64\n",
            "     mcc_code                                    mcc_description    difference\n",
            "124      6011  Финансовые институты — снятие наличности автом...  3.085862e+09\n",
            "22       4829                                  Денежные переводы  2.499153e+09\n",
            "123      6010   Финансовые институты — снятие наличности вручную  2.208580e+08\n",
            "65       5541                            Станции техобслуживания  1.554326e+08\n",
            "62       5511  Легковой и грузовой транспорт — продажа, серви...  7.352877e+07\n",
            "90       5812             Места общественного питания, рестораны  7.037856e+07\n",
            "116      5977                                 Магазины косметики  4.241762e+07\n",
            "64       5533                          Автозапчасти и аксессуары  4.233808e+07\n",
            "162      7995                       Транзакции по азартным играм  4.079564e+07\n",
            "75       5661                                   Обувные магазины  3.815470e+07\n",
            "gender  mcc_code\n",
            "0.0     742         1\n",
            "        1711        1\n",
            "        1799        1\n",
            "        2741        1\n",
            "        3000        1\n",
            "                   ..\n",
            "1.0     8999        1\n",
            "        9222        1\n",
            "        9311        1\n",
            "        9399        1\n",
            "        9402        1\n",
            "Name: amount, Length: 349, dtype: int64\n"
          ]
        }
      ]
    },
    {
      "cell_type": "markdown",
      "metadata": {
        "id": "aGaPkQkVSvl8"
      },
      "source": [
        "## Задание 8"
      ]
    },
    {
      "cell_type": "markdown",
      "metadata": {
        "id": "T7Ox1qAXTHQl"
      },
      "source": [
        "1. Из поля tr_datetime выделите час tr_hour, в который произошла транзакция, как первые 2 цифры до \":\". (\\**)\n",
        "2. Посчитайте количество транзакций с amount<0 в ночное время для мужчин и женщин. Ночное время - это примерно 00-06 часов. "
      ]
    }
  ]
}