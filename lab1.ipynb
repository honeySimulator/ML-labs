{
  "nbformat": 4,
  "nbformat_minor": 0,
  "metadata": {
    "colab": {
      "provenance": [],
      "collapsed_sections": []
    },
    "kernelspec": {
      "display_name": "Python 3",
      "language": "python",
      "name": "python3"
    },
    "language_info": {
      "codemirror_mode": {
        "name": "ipython",
        "version": 3
      },
      "file_extension": ".py",
      "mimetype": "text/x-python",
      "name": "python",
      "nbconvert_exporter": "python",
      "pygments_lexer": "ipython3",
      "version": "3.7.4"
    }
  },
  "cells": [
    {
      "cell_type": "markdown",
      "source": [
        "Перед началом выполнения, сделайте копию этого colab'а. Чтобы сделать копию нужно в пункте меню Файл выбрать \"Сохранить копию на диске\""
      ],
      "metadata": {
        "id": "131T1pm5PaF4"
      }
    },
    {
      "cell_type": "markdown",
      "metadata": {
        "id": "BsNwjQDRfmLY"
      },
      "source": [
        "# Задание 1"
      ]
    },
    {
      "cell_type": "markdown",
      "metadata": {
        "id": "wu6r1-s7fmLe"
      },
      "source": [
        "---"
      ]
    },
    {
      "cell_type": "markdown",
      "metadata": {
        "id": "zxRIdPO9gYyX"
      },
      "source": [
        "Напишите программу, которая будет решать систему линейных уравнений вида:\n",
        "\n",
        "\\begin{matrix} a_{11}x+a_{12}y=b_{1}&(1) \\\\ a_{21}x+a_{22}y=b_{2} &(2) \\end{matrix}\n",
        "​\t\n",
        "На вход программа должна принимать 2 строки.\n",
        "\n",
        "Каждая строка содержит 3 действительных числа через пробел: коэффициенты a и b.\n",
        "\n",
        "На выходе программа должна выдавать значения x и y в одну строку через пробел.\n",
        " \n",
        "\n",
        "Примечание 1. Для разделения строки на отдельные элементы используйте функцию split()\n",
        "\n",
        "Примечание 2. В качестве разделителя между целой и дробной частью используйте точку, например 0.2"
      ]
    },
    {
      "cell_type": "code",
      "metadata": {
        "id": "6sxlcLbVlrjl",
        "colab": {
          "base_uri": "https://localhost:8080/"
        },
        "outputId": "6471d548-c829-4578-b5c2-69532a3e9b99"
      },
      "source": [
        "import numpy as np \n",
        "def linan(a11, a12, b1, a21, a22, b2):\n",
        "  a = np.array([[float(a11), float(a12)], [float(a21), float(a22)]])\n",
        "  b = np.array([float(b1), float(b2)])\n",
        "  x = np.linalg.solve(a, b)\n",
        "  return x[0], x[1]\n",
        "\n",
        "a11, a12, b1 = input().split()\n",
        "a21, a22, b2 = input().split()\n",
        "print(linan(a11, a12, b1, a21, a22, b2))\n"
      ],
      "execution_count": null,
      "outputs": [
        {
          "output_type": "stream",
          "name": "stdout",
          "text": [
            "1 1 2\n",
            "2 1 1\n",
            "(-1.0, 3.0)\n"
          ]
        }
      ]
    },
    {
      "cell_type": "markdown",
      "source": [
        "### Подсказка 1"
      ],
      "metadata": {
        "id": "kElPCFyiua9I"
      }
    },
    {
      "cell_type": "code",
      "source": [],
      "metadata": {
        "id": "jwjE2xldue0h"
      },
      "execution_count": null,
      "outputs": []
    },
    {
      "cell_type": "markdown",
      "metadata": {
        "id": "wLoVDMQnfmOv"
      },
      "source": [
        "# Задание 2"
      ]
    },
    {
      "cell_type": "markdown",
      "metadata": {
        "id": "6bmt_YF3fmOw"
      },
      "source": [
        "Напишите функцию `decorate_matrix`, которая получает на вход одно целое число больше единицы. Функция должна возвращать матрицу n на n, у которой на границах стоят единицы, а на всех остальных позициях(если остались позиции не на границах) стоят нули.\n",
        "\n",
        "Нужно сделать без использования  циклов.\n",
        "\n",
        "```\n",
        "# ожидаемый резальтат для аргумента 5\n",
        "array([[1., 1., 1., 1., 1.],\n",
        "[1., 0., 0., 0., 1.],\n",
        "[1., 0., 0., 0., 1.],\n",
        "[1., 0., 0., 0., 1.],\n",
        "[1., 1., 1., 1., 1.]])\n",
        "```\n",
        "\n"
      ]
    },
    {
      "cell_type": "code",
      "source": [
        "import numpy as np\n",
        "\n",
        "# вариант 2 - срезы\n",
        "def decorate_matrix(x):\n",
        "  a = np.zeros(pow(x, 2)).reshape(x, x)\n",
        "  a[:, 0] = 1\n",
        "  a[0] = 1\n",
        "  a[:, x-1] = 1\n",
        "  a[x-1] = 1\n",
        "  return(a)\n",
        "\n",
        "x = int(input())\n",
        "print(decorate_matrix(x))"
      ],
      "metadata": {
        "colab": {
          "base_uri": "https://localhost:8080/"
        },
        "id": "EXwaUxtq2AIf",
        "outputId": "7ec99130-9d77-4765-a287-f47d00dbbb45"
      },
      "execution_count": null,
      "outputs": [
        {
          "output_type": "stream",
          "name": "stdout",
          "text": [
            "5\n",
            "[[1. 1. 1. 1. 1.]\n",
            " [1. 0. 0. 0. 1.]\n",
            " [1. 0. 0. 0. 1.]\n",
            " [1. 0. 0. 0. 1.]\n",
            " [1. 1. 1. 1. 1.]]\n"
          ]
        }
      ]
    },
    {
      "cell_type": "code",
      "source": [
        "import numpy as np\n",
        "\n",
        "# вариант 1 - np.pad\n",
        "def decorate_matrix(x):\n",
        "    a = np.zeros((x - 2, x - 2), int)\n",
        "\n",
        "    a = np.pad(a, (1, 1), 'constant', constant_values=(1, 1))\n",
        "    return(a)\n",
        "\n",
        "x = int(input())\n",
        "print(decorate_matrix(int(x)))"
      ],
      "metadata": {
        "colab": {
          "base_uri": "https://localhost:8080/"
        },
        "id": "tuZ1Fv9XLDPH",
        "outputId": "ae47543f-e98d-44e7-a5ac-99a8ed0cfe3f"
      },
      "execution_count": null,
      "outputs": [
        {
          "output_type": "stream",
          "name": "stdout",
          "text": [
            "5\n",
            "[[1 1 1 1 1]\n",
            " [1 0 0 0 1]\n",
            " [1 0 0 0 1]\n",
            " [1 0 0 0 1]\n",
            " [1 1 1 1 1]]\n"
          ]
        }
      ]
    },
    {
      "cell_type": "markdown",
      "metadata": {
        "id": "75sxny1zSCbl"
      },
      "source": [
        "# Задание 3"
      ]
    },
    {
      "cell_type": "markdown",
      "metadata": {
        "id": "2Xq1tBBAS5UJ"
      },
      "source": [
        "1) реализуйте 2 функции:\n",
        "\n",
        "$f(x) = (x+a)^2 - b$ \n",
        "\n",
        "$g(x) = |f(x)|$\n",
        "\n",
        "2) Найдите аргументы, при которых достигается минимум функций $f(x)$ и $g(x)$\n",
        "\n",
        "Пример. \n",
        "Входные значение: $a=3$ и $b=4$\n",
        "\n",
        "Выходные значения:\n",
        "\n",
        "`-3.0 -1.0`"
      ]
    },
    {
      "cell_type": "code",
      "source": [
        "import numpy as np\n",
        "from matplotlib import pyplot as plt\n",
        "\n",
        "def f(x):\n",
        "  return pow(x + a, 2) - b\n",
        "\n",
        "def g(x):\n",
        "  return abs(f(x))\n",
        "\n",
        "a, b = map(float, input().split())\n",
        "x = np.linspace(-80,80,1000)\n",
        "dx = x[1]-x[0]\n",
        "y = f(x)\n",
        "y2 = g(x)\n",
        "dydx = np.gradient(y, dx)\n",
        "dy2dx = np.gradient(y2, dx)\n",
        "# plt.plot(x, dydx)\n",
        "# plt.plot(x, dy2dx)\n",
        "\n",
        "idx = np.argwhere(np.diff(np.sign(dydx - dy2dx))).flatten()\n",
        "# print('Минимумы для 1ой функции:', x[idx[0]], x[idx[2]])\n",
        "# print('Минимум для 2ой функции:', x[idx[1]])\n",
        "print(x[idx].round(2))\n",
        "# plt.plot(x[idx], dydx[idx], 'ro')\n",
        "# plt.plot(x[idx], dy2dx[idx], 'ro')\n",
        "# plt.show()"
      ],
      "metadata": {
        "id": "GnhtDQBKz4uH",
        "colab": {
          "base_uri": "https://localhost:8080/"
        },
        "outputId": "63a704fb-b05f-4c81-baa3-db1674eafdfd"
      },
      "execution_count": null,
      "outputs": [
        {
          "output_type": "stream",
          "name": "stdout",
          "text": [
            "3 4\n",
            "[-5.21 -3.12 -0.88]\n"
          ]
        }
      ]
    },
    {
      "cell_type": "markdown",
      "metadata": {
        "id": "efml9GzISC9Q"
      },
      "source": [
        "# Задание 4"
      ]
    },
    {
      "cell_type": "markdown",
      "metadata": {
        "id": "SDZvKcsTVbAW"
      },
      "source": [
        "Постройте графики для функций из предыдущего задания и отметьте другим цветом на графиках точки найденных минимумов."
      ]
    },
    {
      "cell_type": "code",
      "source": [
        "def plot_function(f, a, b):\n",
        "    x = np.linspace(-10, 10, 1000)\n",
        "    y = list(map(f, x))\n",
        "\n",
        "    plt.plot(x, y)\n",
        "    plt.ylabel(\"Y\")\n",
        "    plt.xlabel(\"X\")\n",
        "\n",
        "plot_function(f, a, b)\n",
        "plot_function(g, a, b)\n",
        "plt.plot(x[idx], y[idx], 'go')\n",
        "\n",
        "plt.show()\n"
      ],
      "metadata": {
        "colab": {
          "base_uri": "https://localhost:8080/",
          "height": 279
        },
        "id": "kpbolzVH2sj9",
        "outputId": "645fcf2d-c1fc-4533-eca5-46aab5999971"
      },
      "execution_count": null,
      "outputs": [
        {
          "output_type": "display_data",
          "data": {
            "text/plain": [
              "<Figure size 432x288 with 1 Axes>"
            ],
            "image/png": "[encoded data removed]"
          },
          "metadata": {
            "needs_background": "light"
          }
        }
      ]
    },
    {
      "cell_type": "markdown",
      "metadata": {
        "id": "mrby3EfiSDKJ"
      },
      "source": [
        "# Задание 5"
      ]
    },
    {
      "cell_type": "markdown",
      "metadata": {
        "id": "J6AZ8785VkQd"
      },
      "source": [
        "3\n",
        "1000 человек бросают монетку. Каждый бросил 10 раз подряд.\n",
        "\n",
        " 1. Какова вероятность того, что хотя бы у одного человека монетка выпала 10 раз подряд той же самой стороной (орлом или решкой)? \n",
        " 2. Какова вероятность того, что хотя бы у одного человека монетка выпала 8 раз подряд той же самой стороной (орлом или решкой)? \n",
        " 3. Какова вероятность того, что ровно у троих человек из 1000 монетка выпала 10 раз подряд той же самой стороной (орлом или решкой)?"
      ]
    },
    {
      "cell_type": "code",
      "source": [
        "import numpy as np \n",
        "import math as m\n",
        "# from scipy.stats import binom\n",
        "# ans1 = 1 - binom.pmf(0, n, p)\n",
        "\n",
        "\n",
        "n = 1000\n",
        "# !python --version\n",
        "\n",
        "def combb(n, k):\n",
        "  ans = m.factorial(n)/(m.factorial(k)*m.factorial(n-k))\n",
        "  return ans\n",
        "\n",
        "\n",
        "def binomial(k, n, p):\n",
        "  q = 1 - p\n",
        "  ans = combb(n, k) * p**k * q**(n-k)\n",
        "  return ans\n",
        "# 1 \n",
        "# Используем формулу биномиального распр (P = C(n; k) * p**k * q**(n-k)) где q = 1 - p\n",
        "\n",
        "p = 2/pow(2, 10) # 2 подходящие комбинации\n",
        "ans1 = 1 - binomial(0, n, p)\n",
        "print('Answer 1 =', ans1)\n",
        "\n",
        "# 2\n",
        "# PPPPPPPP.OO\n",
        "# PPPPPPPP.OP\n",
        "# O.PPPPPPPP.O\n",
        "# OO.PPPPPPPP\n",
        "# PO.PPPPPPPP\n",
        "# OOOOOOOO.PP\n",
        "# OOOOOOOO.PO\n",
        "# P.OOOOOOOO.P\n",
        "# PP.OOOOOOO\n",
        "# OP.OOOOOOO\n",
        "\n",
        "p = 10/pow(2, 10) # 10 подходящих комбинаций\n",
        "ans2 = 1 - binomial(0, 1000, p)\n",
        "print('Answer 2 =', ans2)\n",
        "\n",
        "# 3\n",
        "p = 2/pow(2, 10) # 2 подходящие комбинации\n",
        "ans3 = binomial(3, 1000, p)\n",
        "print('Answer 3 =', ans3)"
      ],
      "metadata": {
        "colab": {
          "base_uri": "https://localhost:8080/"
        },
        "id": "CzgEohbIT6d_",
        "outputId": "0235152e-4701-4280-d8f1-916e605a3638"
      },
      "execution_count": null,
      "outputs": [
        {
          "output_type": "stream",
          "name": "stdout",
          "text": [
            "Answer 1 = 0.858440454732242\n",
            "Answer 2 = 0.9999452986105908\n",
            "Answer 3 = 0.1762873858121736\n"
          ]
        }
      ]
    }
  ]
}