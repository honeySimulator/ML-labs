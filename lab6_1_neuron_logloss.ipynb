{
  "nbformat": 4,
  "nbformat_minor": 0,
  "metadata": {
    "colab": {
      "provenance": []
    },
    "kernelspec": {
      "display_name": "Python 3",
      "language": "python",
      "name": "python3"
    }
  },
  "cells": [
    {
      "cell_type": "markdown",
      "metadata": {
        "id": "tWTTy4lrZca5"
      },
      "source": [
        "# Обучение нейрона с помощью функции потерь LogLoss"
      ]
    },
    {
      "cell_type": "markdown",
      "metadata": {
        "id": "G_zlIW5BZcbB"
      },
      "source": [
        "<h3 style=\"text-align: center;\"><b>Нейрон с сигмоидой</b></h3>"
      ]
    },
    {
      "cell_type": "markdown",
      "metadata": {
        "id": "QWwW32pCZcbC"
      },
      "source": [
        "Снова рассмотрим нейрон с сигмоидой, то есть $$f(x) = \\sigma(x)=\\frac{1}{1+e^{-x}}$$ "
      ]
    },
    {
      "cell_type": "markdown",
      "metadata": {
        "collapsed": true,
        "id": "mj5QizQIZcbC"
      },
      "source": [
        "Ранее мы установили, что **обучение нейрона с сигмоидой с квадратичной функцией потерь**:  \n",
        "\n",
        "$$MSE(w, x) = \\frac{1}{2n}\\sum_{i=1}^{n} (\\hat{y_i} - y_i)^2 = \\frac{1}{2n}\\sum_{i=1}^{n} (\\sigma(w \\cdot x_i) - y_i)^2$$    \n",
        "\n",
        "где $w \\cdot x_i$ - скалярное произведение, а $\\sigma(w \\cdot x_i) =\\frac{1}{1+e^{-w \\cdot x_i}} $ - сигмоида -- **неэффективно**, то есть мы увидели, что даже за большое количество итераций нейрон предсказывает плохо."
      ]
    },
    {
      "cell_type": "markdown",
      "metadata": {
        "id": "MTgNbravZcbE"
      },
      "source": [
        "Давайте ещё раз взглянем на формулу для градиентного спуска от функции потерь $MSE$ по весам нейрона:"
      ]
    },
    {
      "cell_type": "markdown",
      "metadata": {
        "collapsed": true,
        "id": "RHXjByowZcbE"
      },
      "source": [
        "$$ \\frac{\\partial MSE}{\\partial w} = \\frac{1}{n} X^T (\\sigma(w \\cdot X) - y)\\sigma(w \\cdot X)(1 - \\sigma(w \\cdot X))$$"
      ]
    },
    {
      "cell_type": "markdown",
      "metadata": {
        "id": "ebNqrTV3ZcbF"
      },
      "source": [
        "А теперь смотрим на график сигмоиды:"
      ]
    },
    {
      "cell_type": "markdown",
      "metadata": {
        "id": "366q3EzJZcbH"
      },
      "source": [
        "<img src=\"https://cdn-images-1.medium.com/max/1200/1*IDAnCFoeXqWL7F4u9MJMtA.png\" width=500px height=350px>"
      ]
    },
    {
      "cell_type": "markdown",
      "metadata": {
        "id": "CSEF3EWVZcbJ"
      },
      "source": [
        "**Её значения: числа от 0 до 1.**"
      ]
    },
    {
      "cell_type": "markdown",
      "metadata": {
        "id": "8oOJPcKhZcbJ"
      },
      "source": [
        "Если получше проанализировать формулу, то теперь можно заметить, что, поскольку сигмоида принимает значения между 0 и 1 (а значит (1-$\\sigma$) тоже принимает значения от 0 до 1), то мы умножаем $X^T$ на столбец $(\\sigma(w \\cdot X) - y)$ из чисел от -1 до 1, а потом ещё на столбцы $\\sigma(w \\cdot X)$ и $(1 - \\sigma(w \\cdot X))$ из чисел от 0 до 1. Таким образом в лучшем случае $\\frac{\\partial{Loss}}{\\partial{w}}$ будет столбцом из чисел, порядок которых максимум 0.01 (в среднем, понятно, что если сигмоида выдаёт все 0, то будет 0, если все 1, то тоже 0). После этого мы умножаем на шаг градиентного спуска, который обычно порядка 0.001 или 0.1 максимум. То есть мы вычитаем из весов числа порядка ~0.0001. Медленновато спускаемся, не правда ли? Это называют **проблемой затухающих градиентов**."
      ]
    },
    {
      "cell_type": "markdown",
      "metadata": {
        "id": "hHmUqm5xZcbK"
      },
      "source": [
        "Чтобы избежать эту проблему в задачах классификации, в которых моделью является нейрон с сигмоидной функцией активации, предсказывающий \"вероятности\" принадлженостей к классам используют **LogLoss**:  "
      ]
    },
    {
      "cell_type": "markdown",
      "metadata": {
        "id": "Dbw69trJZcbL"
      },
      "source": [
        "$$J(\\hat{y}, y) = -\\frac{1}{n} \\sum_{i=1}^n y_i \\log(\\hat{y_i}) + (1 - y_i) \\log(1 - \\hat{y_i}) = -\\frac{1}{n} \\sum_{i=1}^n y_i \\log(\\sigma(w \\cdot x_i)) + (1 - y_i) \\log(1 - \\sigma(w \\cdot x_i))$$"
      ]
    },
    {
      "cell_type": "markdown",
      "metadata": {
        "id": "jXcBIx73ZcbM"
      },
      "source": [
        "где, как и прежде, $y$ - столбец $(n, 1)$ из истинных значений классов, а $\\hat{y}$ - столбец $(n, 1)$ из предсказаний нейрона."
      ]
    },
    {
      "cell_type": "code",
      "metadata": {
        "id": "5DBEOhJmZcbN"
      },
      "source": [
        "from matplotlib import pyplot as plt\n",
        "from matplotlib.colors import ListedColormap\n",
        "import numpy as np\n",
        "import pandas as pd"
      ],
      "execution_count": null,
      "outputs": []
    },
    {
      "cell_type": "code",
      "metadata": {
        "id": "_x5CX0RyZcbQ"
      },
      "source": [
        "def loss(y_pred, y):\n",
        "    return -np.mean(y * np.log(y_pred) + (1 - y) * np.log(1 - y_pred))"
      ],
      "execution_count": null,
      "outputs": []
    },
    {
      "cell_type": "markdown",
      "metadata": {
        "id": "raPTihU6ZcbT"
      },
      "source": [
        "Отметим, что сейчас речь идёт именно о **бинарной классификации (на два класса)**, в многоклассовой классификации используется функция потерь под названием *кросс-энтропия*, которая является обобщением LogLoss'а на случай нескольких классов."
      ]
    },
    {
      "cell_type": "markdown",
      "metadata": {
        "id": "B0Ky5xUfvOzh"
      },
      "source": [
        "Почему же теперь всё будет лучше? Раньше была проблема умножения маленьких чисел в градиенте. Давайте посмотрим, что теперь:"
      ]
    },
    {
      "cell_type": "markdown",
      "metadata": {
        "id": "qxs0zXfPvOzh"
      },
      "source": [
        "* Для веса $w_j$:"
      ]
    },
    {
      "cell_type": "markdown",
      "metadata": {
        "id": "hH6AujkCvOzj"
      },
      "source": [
        "$$ \\frac{\\partial Loss}{\\partial w_j} = \n",
        "-\\frac{1}{n} \\sum_{i=1}^n \\left(\\frac{y_i}{\\sigma(w \\cdot x_i)} - \\frac{1 - y_i}{1 - \\sigma(w \\cdot x_i)}\\right)(\\sigma(w \\cdot x_i))_{w_j}' = -\\frac{1}{n} \\sum_{i=1}^n \\left(\\frac{y_i}{\\sigma(w \\cdot x_i)} - \\frac{1 - y_i}{1 - \\sigma(w \\cdot x_i)}\\right)\\sigma(w \\cdot x_i)(1 - \\sigma(w \\cdot x_i))x_{ij} = $$\n",
        "$$-\\frac{1}{n} \\sum_{i=1}^n \\left(y_i - \\sigma(w \\cdot x_i)\\right)x_{ij}$$"
      ]
    },
    {
      "cell_type": "markdown",
      "metadata": {
        "id": "dYOygL-zvOzk"
      },
      "source": [
        "* Градиент $Loss$'а по вектору весов -- это вектор, $j$-ая компонента которого равна $\\frac{\\partial Loss}{\\partial w_j}$ (помним, что весов всего $m$):"
      ]
    },
    {
      "cell_type": "markdown",
      "metadata": {
        "id": "ItJoyReVvOzl"
      },
      "source": [
        "$$\\begin{align}\n",
        "    \\frac{\\partial Loss}{\\partial w} &= \\begin{bmatrix}\n",
        "           -\\frac{1}{n} \\sum_{i=1}^n \\left(y_i - \\sigma(w \\cdot x_i)\\right)x_{i1} \\\\\n",
        "           -\\frac{1}{n} \\sum_{i=1}^n \\left(y_i - \\sigma(w \\cdot x_i)\\right)x_{i2} \\\\\n",
        "           \\vdots \\\\\n",
        "           -\\frac{1}{n} \\sum_{i=1}^n \\left(y_i - \\sigma(w \\cdot x_i)\\right)x_{im}\n",
        "         \\end{bmatrix}\n",
        "\\end{align}=\\frac{1}{n} X^T \\left(\\hat{y} - y\\right)$$"
      ]
    },
    {
      "cell_type": "markdown",
      "metadata": {
        "id": "r2xKo6NzvOzm"
      },
      "source": [
        "По аналогии с $w_j$ выведите формулу для свободного члена (bias'а) $b$ (*hint*: можно считать, что при нём есть признак $x_{i0}=1$ на всех $i$)."
      ]
    },
    {
      "cell_type": "markdown",
      "metadata": {
        "id": "7HQALb8XZcbU"
      },
      "source": [
        "Получили новое правило для обновления $w$ и $b$. "
      ]
    },
    {
      "cell_type": "code",
      "metadata": {
        "id": "xL2gqg27ZcbW"
      },
      "source": [
        "def sigmoid(x):\n",
        "    \"\"\"Сигмоидальная функция\"\"\"\n",
        "    return 1 / (1 + np.exp(-x))"
      ],
      "execution_count": null,
      "outputs": []
    },
    {
      "cell_type": "markdown",
      "metadata": {
        "id": "ukZ-iJNRZcbY"
      },
      "source": [
        "Реализуйте нейрон с функцией потерь LogLoss:"
      ]
    },
    {
      "cell_type": "code",
      "metadata": {
        "id": "TdnkoJDfZcba"
      },
      "source": [
        "class Neuron:\n",
        "    \n",
        "    def __init__(self, w=None, b=0):\n",
        "        \"\"\"\n",
        "        :param: w -- вектор весов\n",
        "        :param: b -- смещение\n",
        "        \"\"\"\n",
        "        # пока что мы не знаем размер матрицы X, а значит не знаем, сколько будет весов\n",
        "        self.w = w\n",
        "        self.b = b\n",
        "        \n",
        "        \n",
        "    def activate(self, x):\n",
        "        return sigmoid(x)\n",
        "    \n",
        "        \n",
        "    def forward_pass(self, X):\n",
        "        \"\"\"\n",
        "        Эта функция рассчитывает ответ нейрона при предъявлении набора объектов\n",
        "        :param: X -- матрица объектов размера (n, m), каждая строка - отдельный объект\n",
        "        :return: вектор размера (n, 1) из нулей и единиц с ответами перцептрона \n",
        "        \"\"\"\n",
        "        # реализуйте forward_pass\n",
        "        n = X.shape[0]\n",
        "        y_pred = np.zeros((n, 1))  # y_pred == y_predicted - предсказанные классы\n",
        "        y_pred = self.activate(X @ self.w.reshape(X.shape[1], 1) + self.b)\n",
        "        return y_pred.reshape(-1, 1)\n",
        "        \n",
        "    \n",
        "    def backward_pass(self, X, y, y_pred, learning_rate=0.1):\n",
        "        \"\"\"\n",
        "        Обновляет значения весов нейрона в соответствие с этим объектом\n",
        "        :param: X -- матрица объектов размера (n, m)\n",
        "                y -- вектор правильных ответов размера (n, 1)\n",
        "                learning_rate - \"скорость обучения\" (символ alpha в формулах выше)\n",
        "        В этом методе ничего возвращать не нужно, только правильно поменять веса\n",
        "        с помощью градиентного спуска.\n",
        "        \"\"\"\n",
        "        # тут нужно обновить веса по формулам, написанным выше\n",
        "        n = len(y)\n",
        "        y = np.array(y).reshape(-1, 1)\n",
        "        sigma = self.activate(X @ self.w + self.b)\n",
        "        self.w -= learning_rate * (X.T @ (sigma - y)) / n\n",
        "        self.b -= learning_rate * np.mean(sigma - y)\n",
        "    \n",
        "    \n",
        "    def fit(self, X, y, num_epochs=5000):\n",
        "        \"\"\"\n",
        "        Спускаемся в минимум\n",
        "        :param: X -- матрица объектов размера (n, m)\n",
        "                y -- вектор правильных ответов размера (n, 1)\n",
        "                num_epochs -- количество итераций обучения\n",
        "        :return: J_values -- вектор значений функции потерь\n",
        "        \"\"\"\n",
        "        self.w = np.zeros((X.shape[1], 1))  # столбец (m, 1)\n",
        "        self.b = 0  # смещение\n",
        "        loss_values = []  # значения функции потерь на различных итерациях обновления весов\n",
        "        \n",
        "        for i in range(num_epochs):\n",
        "            # предсказания с текущими весами\n",
        "            y_pred = self.forward_pass(X)\n",
        "            # считаем функцию потерь с текущими весами\n",
        "            loss_values.append(loss(y_pred, y))\n",
        "            # обновляем веса по формуле градиентного спуска\n",
        "            self.backward_pass(X, y, y_pred)\n",
        "\n",
        "        return loss_values\n",
        "\n",
        "    def predict(self, X, div):\n",
        "       return np.array(self.forward_pass(X) > div).ravel()"
      ],
      "execution_count": null,
      "outputs": []
    },
    {
      "cell_type": "markdown",
      "metadata": {
        "id": "-RQRPI50Zcbb"
      },
      "source": [
        "<h3 style=\"text-align: center;\"><b>Тестирование</b></h3>"
      ]
    },
    {
      "cell_type": "markdown",
      "metadata": {
        "id": "FBwpsQc0Zcbc"
      },
      "source": [
        "Протестируем нейрон, обученный с новой функцией потерь, на тех же данных, что и в предыдущем ноутбуке:"
      ]
    },
    {
      "cell_type": "markdown",
      "metadata": {
        "id": "JVCPAAuXZcbd"
      },
      "source": [
        "**Проверка forward_pass()**"
      ]
    },
    {
      "cell_type": "code",
      "metadata": {
        "id": "hbuAzv_YZcbe",
        "colab": {
          "base_uri": "https://localhost:8080/"
        },
        "outputId": "b8db8d90-0ecf-4624-8885-99b4a6ce3345"
      },
      "source": [
        "w = np.array([1., 2.]).reshape(2, 1)\n",
        "b = 2.\n",
        "X = np.array([[1., 3.],\n",
        "              [2., 4.],\n",
        "              [-1., -3.2]])\n",
        "\n",
        "neuron = Neuron(w, b)\n",
        "y_pred = neuron.forward_pass(X)\n",
        "print (\"y_pred = \" + str(y_pred))"
      ],
      "execution_count": null,
      "outputs": [
        {
          "output_type": "stream",
          "name": "stdout",
          "text": [
            "y_pred = [[0.99987661]\n",
            " [0.99999386]\n",
            " [0.00449627]]\n"
          ]
        }
      ]
    },
    {
      "cell_type": "markdown",
      "metadata": {
        "id": "eL6viEHNZcbi"
      },
      "source": [
        "**Проверка backward_pass()**"
      ]
    },
    {
      "cell_type": "code",
      "metadata": {
        "id": "_4F8zActZcbk"
      },
      "source": [
        "y = np.array([1, 0, 1]).reshape(3, 1)"
      ],
      "execution_count": null,
      "outputs": []
    },
    {
      "cell_type": "code",
      "metadata": {
        "id": "ILDcoLqwZcbm",
        "colab": {
          "base_uri": "https://localhost:8080/"
        },
        "outputId": "6260d7fc-2dc2-40b7-8254-43803057852e"
      },
      "source": [
        "neuron.backward_pass(X, y, y_pred)\n",
        "\n",
        "print (\"w = \" + str(neuron.w))\n",
        "print (\"b = \" + str(neuron.b))"
      ],
      "execution_count": null,
      "outputs": [
        {
          "output_type": "stream",
          "name": "stdout",
          "text": [
            "w = [[0.9001544 ]\n",
            " [1.76049276]]\n",
            "b = 1.9998544421863216\n"
          ]
        }
      ]
    },
    {
      "cell_type": "markdown",
      "metadata": {
        "id": "_1ZRdKcfZcbq"
      },
      "source": [
        "Проверьте на наборах данных \"яблоки и груши\" и \"голос\"."
      ]
    },
    {
      "cell_type": "code",
      "source": [
        "from google.colab import drive\n",
        "\n",
        "drive.mount('/content/drive')"
      ],
      "metadata": {
        "colab": {
          "base_uri": "https://localhost:8080/"
        },
        "id": "o4slMj5qXn61",
        "outputId": "0f125552-8ca9-4a35-c83d-45e4ae14b05c"
      },
      "execution_count": null,
      "outputs": [
        {
          "output_type": "stream",
          "name": "stdout",
          "text": [
            "Mounted at /content/drive\n"
          ]
        }
      ]
    },
    {
      "cell_type": "code",
      "source": [
        "data = pd.read_csv(filepath_or_buffer = '/content/drive/MyDrive/Data/apples_pears.csv')\n",
        "data.head(5)"
      ],
      "metadata": {
        "colab": {
          "base_uri": "https://localhost:8080/",
          "height": 206
        },
        "id": "K2wgvSB8X1t0",
        "outputId": "1736c1e8-0841-4c75-cdef-74b47b3f82ce"
      },
      "execution_count": null,
      "outputs": [
        {
          "output_type": "execute_result",
          "data": {
            "text/plain": [
              "   yellowness  symmetry  target\n",
              "0    0.779427  0.257305     1.0\n",
              "1    0.777005  0.015915     1.0\n",
              "2    0.977092  0.304210     1.0\n",
              "3    0.043032  0.140899     0.0\n",
              "4    0.760433  0.193123     1.0"
            ],
            "text/html": [
              "\n",
              "  <div id=\"df-7048ff1f-57f6-4c84-a20c-60f4931bb470\">\n",
              "    <div class=\"colab-df-container\">\n",
              "      <div>\n",
              "<style scoped>\n",
              "    .dataframe tbody tr th:only-of-type {\n",
              "        vertical-align: middle;\n",
              "    }\n",
              "\n",
              "    .dataframe tbody tr th {\n",
              "        vertical-align: top;\n",
              "    }\n",
              "\n",
              "    .dataframe thead th {\n",
              "        text-align: right;\n",
              "    }\n",
              "</style>\n",
              "<table border=\"1\" class=\"dataframe\">\n",
              "  <thead>\n",
              "    <tr style=\"text-align: right;\">\n",
              "      <th></th>\n",
              "      <th>yellowness</th>\n",
              "      <th>symmetry</th>\n",
              "      <th>target</th>\n",
              "    </tr>\n",
              "  </thead>\n",
              "  <tbody>\n",
              "    <tr>\n",
              "      <th>0</th>\n",
              "      <td>0.779427</td>\n",
              "      <td>0.257305</td>\n",
              "      <td>1.0</td>\n",
              "    </tr>\n",
              "    <tr>\n",
              "      <th>1</th>\n",
              "      <td>0.777005</td>\n",
              "      <td>0.015915</td>\n",
              "      <td>1.0</td>\n",
              "    </tr>\n",
              "    <tr>\n",
              "      <th>2</th>\n",
              "      <td>0.977092</td>\n",
              "      <td>0.304210</td>\n",
              "      <td>1.0</td>\n",
              "    </tr>\n",
              "    <tr>\n",
              "      <th>3</th>\n",
              "      <td>0.043032</td>\n",
              "      <td>0.140899</td>\n",
              "      <td>0.0</td>\n",
              "    </tr>\n",
              "    <tr>\n",
              "      <th>4</th>\n",
              "      <td>0.760433</td>\n",
              "      <td>0.193123</td>\n",
              "      <td>1.0</td>\n",
              "    </tr>\n",
              "  </tbody>\n",
              "</table>\n",
              "</div>\n",
              "      <button class=\"colab-df-convert\" onclick=\"convertToInteractive('df-7048ff1f-57f6-4c84-a20c-60f4931bb470')\"\n",
              "              title=\"Convert this dataframe to an interactive table.\"\n",
              "              style=\"display:none;\">\n",
              "        \n",
              "  <svg xmlns=\"http://www.w3.org/2000/svg\" height=\"24px\"viewBox=\"0 0 24 24\"\n",
              "       width=\"24px\">\n",
              "    <path d=\"M0 0h24v24H0V0z\" fill=\"none\"/>\n",
              "    <path d=\"M18.56 5.44l.94 2.06.94-2.06 2.06-.94-2.06-.94-.94-2.06-.94 2.06-2.06.94zm-11 1L8.5 8.5l.94-2.06 2.06-.94-2.06-.94L8.5 2.5l-.94 2.06-2.06.94zm10 10l.94 2.06.94-2.06 2.06-.94-2.06-.94-.94-2.06-.94 2.06-2.06.94z\"/><path d=\"M17.41 7.96l-1.37-1.37c-.4-.4-.92-.59-1.43-.59-.52 0-1.04.2-1.43.59L10.3 9.45l-7.72 7.72c-.78.78-.78 2.05 0 2.83L4 21.41c.39.39.9.59 1.41.59.51 0 1.02-.2 1.41-.59l7.78-7.78 2.81-2.81c.8-.78.8-2.07 0-2.86zM5.41 20L4 18.59l7.72-7.72 1.47 1.35L5.41 20z\"/>\n",
              "  </svg>\n",
              "      </button>\n",
              "      \n",
              "  <style>\n",
              "    .colab-df-container {\n",
              "      display:flex;\n",
              "      flex-wrap:wrap;\n",
              "      gap: 12px;\n",
              "    }\n",
              "\n",
              "    .colab-df-convert {\n",
              "      background-color: #E8F0FE;\n",
              "      border: none;\n",
              "      border-radius: 50%;\n",
              "      cursor: pointer;\n",
              "      display: none;\n",
              "      fill: #1967D2;\n",
              "      height: 32px;\n",
              "      padding: 0 0 0 0;\n",
              "      width: 32px;\n",
              "    }\n",
              "\n",
              "    .colab-df-convert:hover {\n",
              "      background-color: #E2EBFA;\n",
              "      box-shadow: 0px 1px 2px rgba(60, 64, 67, 0.3), 0px 1px 3px 1px rgba(60, 64, 67, 0.15);\n",
              "      fill: #174EA6;\n",
              "    }\n",
              "\n",
              "    [theme=dark] .colab-df-convert {\n",
              "      background-color: #3B4455;\n",
              "      fill: #D2E3FC;\n",
              "    }\n",
              "\n",
              "    [theme=dark] .colab-df-convert:hover {\n",
              "      background-color: #434B5C;\n",
              "      box-shadow: 0px 1px 3px 1px rgba(0, 0, 0, 0.15);\n",
              "      filter: drop-shadow(0px 1px 2px rgba(0, 0, 0, 0.3));\n",
              "      fill: #FFFFFF;\n",
              "    }\n",
              "  </style>\n",
              "\n",
              "      <script>\n",
              "        const buttonEl =\n",
              "          document.querySelector('#df-7048ff1f-57f6-4c84-a20c-60f4931bb470 button.colab-df-convert');\n",
              "        buttonEl.style.display =\n",
              "          google.colab.kernel.accessAllowed ? 'block' : 'none';\n",
              "\n",
              "        async function convertToInteractive(key) {\n",
              "          const element = document.querySelector('#df-7048ff1f-57f6-4c84-a20c-60f4931bb470');\n",
              "          const dataTable =\n",
              "            await google.colab.kernel.invokeFunction('convertToInteractive',\n",
              "                                                     [key], {});\n",
              "          if (!dataTable) return;\n",
              "\n",
              "          const docLinkHtml = 'Like what you see? Visit the ' +\n",
              "            '<a target=\"_blank\" href=https://colab.research.google.com/notebooks/data_table.ipynb>data table notebook</a>'\n",
              "            + ' to learn more about interactive tables.';\n",
              "          element.innerHTML = '';\n",
              "          dataTable['output_type'] = 'display_data';\n",
              "          await google.colab.output.renderOutput(dataTable, element);\n",
              "          const docLink = document.createElement('div');\n",
              "          docLink.innerHTML = docLinkHtml;\n",
              "          element.appendChild(docLink);\n",
              "        }\n",
              "      </script>\n",
              "    </div>\n",
              "  </div>\n",
              "  "
            ]
          },
          "metadata": {},
          "execution_count": 9
        }
      ]
    },
    {
      "cell_type": "code",
      "source": [
        "from sklearn.preprocessing import MinMaxScaler\n",
        "from sklearn.preprocessing import StandardScaler\n",
        "from sklearn.model_selection import train_test_split"
      ],
      "metadata": {
        "id": "_SJkaHlEk0X9"
      },
      "execution_count": null,
      "outputs": []
    },
    {
      "cell_type": "code",
      "source": [
        "scaler = StandardScaler()\n",
        "X_train, X_test, y_train, y_test = train_test_split(data.iloc[:, :2], data['target'], test_size=0.7, random_state=42)"
      ],
      "metadata": {
        "id": "bTS_n5aSk-9X"
      },
      "execution_count": null,
      "outputs": []
    },
    {
      "cell_type": "code",
      "source": [
        "plt.figure(figsize=(10, 8))\n",
        "plt.scatter(X_test.iloc[:, 0], X_test.iloc[:, 1], c=y_test, cmap='rainbow')\n",
        "plt.title('Яблоки и груши', fontsize=15)\n",
        "plt.xlabel('симметричность', fontsize=14)\n",
        "plt.ylabel('желтизна', fontsize=14)\n",
        "plt.show()"
      ],
      "metadata": {
        "colab": {
          "base_uri": "https://localhost:8080/",
          "height": 520
        },
        "id": "O64cAMyCYYvc",
        "outputId": "af65272e-ef16-4f71-9b5f-2c3a8e9ef6a3"
      },
      "execution_count": null,
      "outputs": [
        {
          "output_type": "display_data",
          "data": {
            "text/plain": [
              "<Figure size 720x576 with 1 Axes>"
            ],
            "image/png": "[encoded data removed]"
          },
          "metadata": {
            "needs_background": "light"
          }
        }
      ]
    },
    {
      "cell_type": "code",
      "source": [
        "%%time\n",
        "neuron = Neuron()\n",
        "Loss_values = neuron.fit(X_train.values, y_train.values.reshape((-1, 1)))\n",
        "\n",
        "plt.figure(figsize=(10, 8))\n",
        "plt.plot(Loss_values)\n",
        "plt.title('Функция потерь', fontsize=15)\n",
        "plt.xlabel('номер итерации', fontsize=14)\n",
        "plt.ylabel('$Loss(\\hat{y}, y)$', fontsize=14)\n",
        "plt.show()"
      ],
      "metadata": {
        "colab": {
          "base_uri": "https://localhost:8080/",
          "height": 554
        },
        "id": "i4qgFA_1YtOO",
        "outputId": "ffc50c36-0973-4b85-8232-26fcdfeeb751"
      },
      "execution_count": null,
      "outputs": [
        {
          "output_type": "display_data",
          "data": {
            "text/plain": [
              "<Figure size 720x576 with 1 Axes>"
            ],
            "image/png": "[encoded data removed]"
          },
          "metadata": {
            "needs_background": "light"
          }
        },
        {
          "output_type": "stream",
          "name": "stdout",
          "text": [
            "CPU times: user 920 ms, sys: 51.3 ms, total: 972 ms\n",
            "Wall time: 912 ms\n"
          ]
        }
      ]
    },
    {
      "cell_type": "code",
      "source": [
        "from sklearn.metrics import classification_report"
      ],
      "metadata": {
        "id": "ndv1BkbzUfkV"
      },
      "execution_count": null,
      "outputs": []
    },
    {
      "cell_type": "code",
      "source": [
        "def findMetrics(neuron, X, Y):\n",
        "  metrics = []\n",
        "  for threshold in np.arange(0.1, 0.9, 0.1):\n",
        "    y_pred = pd.Series(data=list(neuron.predict(X, threshold)))\n",
        "    metrics.append((threshold, classification_report(Y, y_pred, output_dict=True)))\n",
        "  metrics.sort(key = lambda x: x[1][\"accuracy\"])\n",
        "  best_threshold = metrics[-1][0]\n",
        "\n",
        "  return best_threshold, metrics"
      ],
      "metadata": {
        "id": "vQu6ElqubB_h"
      },
      "execution_count": null,
      "outputs": []
    },
    {
      "cell_type": "code",
      "source": [
        "best_threshold, metrics = findMetrics(neuron, X_test.values, y_test.values.reshape((-1, 1)))\n",
        "\n",
        "print(\"Best threshold:\", best_threshold.round(1))\n",
        "pd.DataFrame(metrics[-1][1]).T"
      ],
      "metadata": {
        "colab": {
          "base_uri": "https://localhost:8080/",
          "height": 224
        },
        "id": "EgMwoCw9UZQp",
        "outputId": "a66dd3e1-c709-4abe-99fa-edd90e0febe0"
      },
      "execution_count": null,
      "outputs": [
        {
          "output_type": "stream",
          "name": "stdout",
          "text": [
            "Best threshold: 0.7\n"
          ]
        },
        {
          "output_type": "execute_result",
          "data": {
            "text/plain": [
              "              precision    recall  f1-score     support\n",
              "0.0            1.000000  0.982014  0.990926  278.000000\n",
              "1.0            0.988290  1.000000  0.994111  422.000000\n",
              "accuracy       0.992857  0.992857  0.992857    0.992857\n",
              "macro avg      0.994145  0.991007  0.992518  700.000000\n",
              "weighted avg   0.992941  0.992857  0.992846  700.000000"
            ],
            "text/html": [
              "\n",
              "  <div id=\"df-c33c7bea-c8a9-42ec-a4b1-5958dfee5dad\">\n",
              "    <div class=\"colab-df-container\">\n",
              "      <div>\n",
              "<style scoped>\n",
              "    .dataframe tbody tr th:only-of-type {\n",
              "        vertical-align: middle;\n",
              "    }\n",
              "\n",
              "    .dataframe tbody tr th {\n",
              "        vertical-align: top;\n",
              "    }\n",
              "\n",
              "    .dataframe thead th {\n",
              "        text-align: right;\n",
              "    }\n",
              "</style>\n",
              "<table border=\"1\" class=\"dataframe\">\n",
              "  <thead>\n",
              "    <tr style=\"text-align: right;\">\n",
              "      <th></th>\n",
              "      <th>precision</th>\n",
              "      <th>recall</th>\n",
              "      <th>f1-score</th>\n",
              "      <th>support</th>\n",
              "    </tr>\n",
              "  </thead>\n",
              "  <tbody>\n",
              "    <tr>\n",
              "      <th>0.0</th>\n",
              "      <td>1.000000</td>\n",
              "      <td>0.982014</td>\n",
              "      <td>0.990926</td>\n",
              "      <td>278.000000</td>\n",
              "    </tr>\n",
              "    <tr>\n",
              "      <th>1.0</th>\n",
              "      <td>0.988290</td>\n",
              "      <td>1.000000</td>\n",
              "      <td>0.994111</td>\n",
              "      <td>422.000000</td>\n",
              "    </tr>\n",
              "    <tr>\n",
              "      <th>accuracy</th>\n",
              "      <td>0.992857</td>\n",
              "      <td>0.992857</td>\n",
              "      <td>0.992857</td>\n",
              "      <td>0.992857</td>\n",
              "    </tr>\n",
              "    <tr>\n",
              "      <th>macro avg</th>\n",
              "      <td>0.994145</td>\n",
              "      <td>0.991007</td>\n",
              "      <td>0.992518</td>\n",
              "      <td>700.000000</td>\n",
              "    </tr>\n",
              "    <tr>\n",
              "      <th>weighted avg</th>\n",
              "      <td>0.992941</td>\n",
              "      <td>0.992857</td>\n",
              "      <td>0.992846</td>\n",
              "      <td>700.000000</td>\n",
              "    </tr>\n",
              "  </tbody>\n",
              "</table>\n",
              "</div>\n",
              "      <button class=\"colab-df-convert\" onclick=\"convertToInteractive('df-c33c7bea-c8a9-42ec-a4b1-5958dfee5dad')\"\n",
              "              title=\"Convert this dataframe to an interactive table.\"\n",
              "              style=\"display:none;\">\n",
              "        \n",
              "  <svg xmlns=\"http://www.w3.org/2000/svg\" height=\"24px\"viewBox=\"0 0 24 24\"\n",
              "       width=\"24px\">\n",
              "    <path d=\"M0 0h24v24H0V0z\" fill=\"none\"/>\n",
              "    <path d=\"M18.56 5.44l.94 2.06.94-2.06 2.06-.94-2.06-.94-.94-2.06-.94 2.06-2.06.94zm-11 1L8.5 8.5l.94-2.06 2.06-.94-2.06-.94L8.5 2.5l-.94 2.06-2.06.94zm10 10l.94 2.06.94-2.06 2.06-.94-2.06-.94-.94-2.06-.94 2.06-2.06.94z\"/><path d=\"M17.41 7.96l-1.37-1.37c-.4-.4-.92-.59-1.43-.59-.52 0-1.04.2-1.43.59L10.3 9.45l-7.72 7.72c-.78.78-.78 2.05 0 2.83L4 21.41c.39.39.9.59 1.41.59.51 0 1.02-.2 1.41-.59l7.78-7.78 2.81-2.81c.8-.78.8-2.07 0-2.86zM5.41 20L4 18.59l7.72-7.72 1.47 1.35L5.41 20z\"/>\n",
              "  </svg>\n",
              "      </button>\n",
              "      \n",
              "  <style>\n",
              "    .colab-df-container {\n",
              "      display:flex;\n",
              "      flex-wrap:wrap;\n",
              "      gap: 12px;\n",
              "    }\n",
              "\n",
              "    .colab-df-convert {\n",
              "      background-color: #E8F0FE;\n",
              "      border: none;\n",
              "      border-radius: 50%;\n",
              "      cursor: pointer;\n",
              "      display: none;\n",
              "      fill: #1967D2;\n",
              "      height: 32px;\n",
              "      padding: 0 0 0 0;\n",
              "      width: 32px;\n",
              "    }\n",
              "\n",
              "    .colab-df-convert:hover {\n",
              "      background-color: #E2EBFA;\n",
              "      box-shadow: 0px 1px 2px rgba(60, 64, 67, 0.3), 0px 1px 3px 1px rgba(60, 64, 67, 0.15);\n",
              "      fill: #174EA6;\n",
              "    }\n",
              "\n",
              "    [theme=dark] .colab-df-convert {\n",
              "      background-color: #3B4455;\n",
              "      fill: #D2E3FC;\n",
              "    }\n",
              "\n",
              "    [theme=dark] .colab-df-convert:hover {\n",
              "      background-color: #434B5C;\n",
              "      box-shadow: 0px 1px 3px 1px rgba(0, 0, 0, 0.15);\n",
              "      filter: drop-shadow(0px 1px 2px rgba(0, 0, 0, 0.3));\n",
              "      fill: #FFFFFF;\n",
              "    }\n",
              "  </style>\n",
              "\n",
              "      <script>\n",
              "        const buttonEl =\n",
              "          document.querySelector('#df-c33c7bea-c8a9-42ec-a4b1-5958dfee5dad button.colab-df-convert');\n",
              "        buttonEl.style.display =\n",
              "          google.colab.kernel.accessAllowed ? 'block' : 'none';\n",
              "\n",
              "        async function convertToInteractive(key) {\n",
              "          const element = document.querySelector('#df-c33c7bea-c8a9-42ec-a4b1-5958dfee5dad');\n",
              "          const dataTable =\n",
              "            await google.colab.kernel.invokeFunction('convertToInteractive',\n",
              "                                                     [key], {});\n",
              "          if (!dataTable) return;\n",
              "\n",
              "          const docLinkHtml = 'Like what you see? Visit the ' +\n",
              "            '<a target=\"_blank\" href=https://colab.research.google.com/notebooks/data_table.ipynb>data table notebook</a>'\n",
              "            + ' to learn more about interactive tables.';\n",
              "          element.innerHTML = '';\n",
              "          dataTable['output_type'] = 'display_data';\n",
              "          await google.colab.output.renderOutput(dataTable, element);\n",
              "          const docLink = document.createElement('div');\n",
              "          docLink.innerHTML = docLinkHtml;\n",
              "          element.appendChild(docLink);\n",
              "        }\n",
              "      </script>\n",
              "    </div>\n",
              "  </div>\n",
              "  "
            ]
          },
          "metadata": {},
          "execution_count": 30
        }
      ]
    },
    {
      "cell_type": "code",
      "source": [
        "data2 = pd.read_csv(filepath_or_buffer = '/content/drive/MyDrive/Data/voice.csv')"
      ],
      "metadata": {
        "id": "s48mn4FfYpcD"
      },
      "execution_count": null,
      "outputs": []
    },
    {
      "cell_type": "code",
      "source": [
        "data2['label'] = data2['label'].apply(lambda x: 1 if x == 'male' else 0)\n",
        "scaler = MinMaxScaler()\n",
        "data2 = pd.DataFrame(scaler.fit_transform(data2))\n",
        "data2.head(5)"
      ],
      "metadata": {
        "colab": {
          "base_uri": "https://localhost:8080/",
          "height": 300
        },
        "id": "n9YgnGV-ZQy_",
        "outputId": "05a6d10d-4ca9-4982-e53a-cdf7d925a725"
      },
      "execution_count": null,
      "outputs": [
        {
          "output_type": "execute_result",
          "data": {
            "text/plain": [
              "         0         1         2         3         4         5         6   \\\n",
              "0  0.096419  0.473409  0.084125  0.060063  0.204956  0.254828  0.367853   \n",
              "1  0.125828  0.505075  0.116900  0.077635  0.215683  0.246961  0.644279   \n",
              "2  0.179222  0.675536  0.102873  0.034284  0.385912  0.457148  0.885255   \n",
              "3  0.528261  0.554611  0.587559  0.389906  0.715802  0.407358  0.031549   \n",
              "4  0.452195  0.627209  0.454272  0.317627  0.707515  0.474474  0.027742   \n",
              "\n",
              "         7         8         9   ...        11        12        13        14  \\\n",
              "0  0.208279  0.635798  0.564526  ...  0.096419  0.157706  0.030501  0.981526   \n",
              "1  0.483766  0.630964  0.591578  ...  0.125828  0.287642  0.031140  0.834600   \n",
              "2  0.782275  0.442738  0.548382  ...  0.179222  0.236945  0.030264  0.954963   \n",
              "3  0.001613  0.923261  0.856457  ...  0.528261  0.183442  0.041287  0.834600   \n",
              "4  0.001732  0.958736  0.926348  ...  0.452195  0.279190  0.036829  0.929285   \n",
              "\n",
              "         15        16        17        18        19   20  \n",
              "0  0.000000  0.006452  0.000000  0.000000  0.000000  1.0  \n",
              "1  0.000407  0.006452  0.002144  0.002146  0.056449  1.0  \n",
              "2  0.000060  0.006452  0.000357  0.000358  0.049885  1.0  \n",
              "3  0.065659  0.006452  0.025375  0.025393  0.265043  1.0  \n",
              "4  0.238994  0.006452  0.250536  0.250715  0.223380  1.0  \n",
              "\n",
              "[5 rows x 21 columns]"
            ],
            "text/html": [
              "\n",
              "  <div id=\"df-154254a0-aab7-4ad1-ad78-b8697e940a43\">\n",
              "    <div class=\"colab-df-container\">\n",
              "      <div>\n",
              "<style scoped>\n",
              "    .dataframe tbody tr th:only-of-type {\n",
              "        vertical-align: middle;\n",
              "    }\n",
              "\n",
              "    .dataframe tbody tr th {\n",
              "        vertical-align: top;\n",
              "    }\n",
              "\n",
              "    .dataframe thead th {\n",
              "        text-align: right;\n",
              "    }\n",
              "</style>\n",
              "<table border=\"1\" class=\"dataframe\">\n",
              "  <thead>\n",
              "    <tr style=\"text-align: right;\">\n",
              "      <th></th>\n",
              "      <th>0</th>\n",
              "      <th>1</th>\n",
              "      <th>2</th>\n",
              "      <th>3</th>\n",
              "      <th>4</th>\n",
              "      <th>5</th>\n",
              "      <th>6</th>\n",
              "      <th>7</th>\n",
              "      <th>8</th>\n",
              "      <th>9</th>\n",
              "      <th>...</th>\n",
              "      <th>11</th>\n",
              "      <th>12</th>\n",
              "      <th>13</th>\n",
              "      <th>14</th>\n",
              "      <th>15</th>\n",
              "      <th>16</th>\n",
              "      <th>17</th>\n",
              "      <th>18</th>\n",
              "      <th>19</th>\n",
              "      <th>20</th>\n",
              "    </tr>\n",
              "  </thead>\n",
              "  <tbody>\n",
              "    <tr>\n",
              "      <th>0</th>\n",
              "      <td>0.096419</td>\n",
              "      <td>0.473409</td>\n",
              "      <td>0.084125</td>\n",
              "      <td>0.060063</td>\n",
              "      <td>0.204956</td>\n",
              "      <td>0.254828</td>\n",
              "      <td>0.367853</td>\n",
              "      <td>0.208279</td>\n",
              "      <td>0.635798</td>\n",
              "      <td>0.564526</td>\n",
              "      <td>...</td>\n",
              "      <td>0.096419</td>\n",
              "      <td>0.157706</td>\n",
              "      <td>0.030501</td>\n",
              "      <td>0.981526</td>\n",
              "      <td>0.000000</td>\n",
              "      <td>0.006452</td>\n",
              "      <td>0.000000</td>\n",
              "      <td>0.000000</td>\n",
              "      <td>0.000000</td>\n",
              "      <td>1.0</td>\n",
              "    </tr>\n",
              "    <tr>\n",
              "      <th>1</th>\n",
              "      <td>0.125828</td>\n",
              "      <td>0.505075</td>\n",
              "      <td>0.116900</td>\n",
              "      <td>0.077635</td>\n",
              "      <td>0.215683</td>\n",
              "      <td>0.246961</td>\n",
              "      <td>0.644279</td>\n",
              "      <td>0.483766</td>\n",
              "      <td>0.630964</td>\n",
              "      <td>0.591578</td>\n",
              "      <td>...</td>\n",
              "      <td>0.125828</td>\n",
              "      <td>0.287642</td>\n",
              "      <td>0.031140</td>\n",
              "      <td>0.834600</td>\n",
              "      <td>0.000407</td>\n",
              "      <td>0.006452</td>\n",
              "      <td>0.002144</td>\n",
              "      <td>0.002146</td>\n",
              "      <td>0.056449</td>\n",
              "      <td>1.0</td>\n",
              "    </tr>\n",
              "    <tr>\n",
              "      <th>2</th>\n",
              "      <td>0.179222</td>\n",
              "      <td>0.675536</td>\n",
              "      <td>0.102873</td>\n",
              "      <td>0.034284</td>\n",
              "      <td>0.385912</td>\n",
              "      <td>0.457148</td>\n",
              "      <td>0.885255</td>\n",
              "      <td>0.782275</td>\n",
              "      <td>0.442738</td>\n",
              "      <td>0.548382</td>\n",
              "      <td>...</td>\n",
              "      <td>0.179222</td>\n",
              "      <td>0.236945</td>\n",
              "      <td>0.030264</td>\n",
              "      <td>0.954963</td>\n",
              "      <td>0.000060</td>\n",
              "      <td>0.006452</td>\n",
              "      <td>0.000357</td>\n",
              "      <td>0.000358</td>\n",
              "      <td>0.049885</td>\n",
              "      <td>1.0</td>\n",
              "    </tr>\n",
              "    <tr>\n",
              "      <th>3</th>\n",
              "      <td>0.528261</td>\n",
              "      <td>0.554611</td>\n",
              "      <td>0.587559</td>\n",
              "      <td>0.389906</td>\n",
              "      <td>0.715802</td>\n",
              "      <td>0.407358</td>\n",
              "      <td>0.031549</td>\n",
              "      <td>0.001613</td>\n",
              "      <td>0.923261</td>\n",
              "      <td>0.856457</td>\n",
              "      <td>...</td>\n",
              "      <td>0.528261</td>\n",
              "      <td>0.183442</td>\n",
              "      <td>0.041287</td>\n",
              "      <td>0.834600</td>\n",
              "      <td>0.065659</td>\n",
              "      <td>0.006452</td>\n",
              "      <td>0.025375</td>\n",
              "      <td>0.025393</td>\n",
              "      <td>0.265043</td>\n",
              "      <td>1.0</td>\n",
              "    </tr>\n",
              "    <tr>\n",
              "      <th>4</th>\n",
              "      <td>0.452195</td>\n",
              "      <td>0.627209</td>\n",
              "      <td>0.454272</td>\n",
              "      <td>0.317627</td>\n",
              "      <td>0.707515</td>\n",
              "      <td>0.474474</td>\n",
              "      <td>0.027742</td>\n",
              "      <td>0.001732</td>\n",
              "      <td>0.958736</td>\n",
              "      <td>0.926348</td>\n",
              "      <td>...</td>\n",
              "      <td>0.452195</td>\n",
              "      <td>0.279190</td>\n",
              "      <td>0.036829</td>\n",
              "      <td>0.929285</td>\n",
              "      <td>0.238994</td>\n",
              "      <td>0.006452</td>\n",
              "      <td>0.250536</td>\n",
              "      <td>0.250715</td>\n",
              "      <td>0.223380</td>\n",
              "      <td>1.0</td>\n",
              "    </tr>\n",
              "  </tbody>\n",
              "</table>\n",
              "<p>5 rows × 21 columns</p>\n",
              "</div>\n",
              "      <button class=\"colab-df-convert\" onclick=\"convertToInteractive('df-154254a0-aab7-4ad1-ad78-b8697e940a43')\"\n",
              "              title=\"Convert this dataframe to an interactive table.\"\n",
              "              style=\"display:none;\">\n",
              "        \n",
              "  <svg xmlns=\"http://www.w3.org/2000/svg\" height=\"24px\"viewBox=\"0 0 24 24\"\n",
              "       width=\"24px\">\n",
              "    <path d=\"M0 0h24v24H0V0z\" fill=\"none\"/>\n",
              "    <path d=\"M18.56 5.44l.94 2.06.94-2.06 2.06-.94-2.06-.94-.94-2.06-.94 2.06-2.06.94zm-11 1L8.5 8.5l.94-2.06 2.06-.94-2.06-.94L8.5 2.5l-.94 2.06-2.06.94zm10 10l.94 2.06.94-2.06 2.06-.94-2.06-.94-.94-2.06-.94 2.06-2.06.94z\"/><path d=\"M17.41 7.96l-1.37-1.37c-.4-.4-.92-.59-1.43-.59-.52 0-1.04.2-1.43.59L10.3 9.45l-7.72 7.72c-.78.78-.78 2.05 0 2.83L4 21.41c.39.39.9.59 1.41.59.51 0 1.02-.2 1.41-.59l7.78-7.78 2.81-2.81c.8-.78.8-2.07 0-2.86zM5.41 20L4 18.59l7.72-7.72 1.47 1.35L5.41 20z\"/>\n",
              "  </svg>\n",
              "      </button>\n",
              "      \n",
              "  <style>\n",
              "    .colab-df-container {\n",
              "      display:flex;\n",
              "      flex-wrap:wrap;\n",
              "      gap: 12px;\n",
              "    }\n",
              "\n",
              "    .colab-df-convert {\n",
              "      background-color: #E8F0FE;\n",
              "      border: none;\n",
              "      border-radius: 50%;\n",
              "      cursor: pointer;\n",
              "      display: none;\n",
              "      fill: #1967D2;\n",
              "      height: 32px;\n",
              "      padding: 0 0 0 0;\n",
              "      width: 32px;\n",
              "    }\n",
              "\n",
              "    .colab-df-convert:hover {\n",
              "      background-color: #E2EBFA;\n",
              "      box-shadow: 0px 1px 2px rgba(60, 64, 67, 0.3), 0px 1px 3px 1px rgba(60, 64, 67, 0.15);\n",
              "      fill: #174EA6;\n",
              "    }\n",
              "\n",
              "    [theme=dark] .colab-df-convert {\n",
              "      background-color: #3B4455;\n",
              "      fill: #D2E3FC;\n",
              "    }\n",
              "\n",
              "    [theme=dark] .colab-df-convert:hover {\n",
              "      background-color: #434B5C;\n",
              "      box-shadow: 0px 1px 3px 1px rgba(0, 0, 0, 0.15);\n",
              "      filter: drop-shadow(0px 1px 2px rgba(0, 0, 0, 0.3));\n",
              "      fill: #FFFFFF;\n",
              "    }\n",
              "  </style>\n",
              "\n",
              "      <script>\n",
              "        const buttonEl =\n",
              "          document.querySelector('#df-154254a0-aab7-4ad1-ad78-b8697e940a43 button.colab-df-convert');\n",
              "        buttonEl.style.display =\n",
              "          google.colab.kernel.accessAllowed ? 'block' : 'none';\n",
              "\n",
              "        async function convertToInteractive(key) {\n",
              "          const element = document.querySelector('#df-154254a0-aab7-4ad1-ad78-b8697e940a43');\n",
              "          const dataTable =\n",
              "            await google.colab.kernel.invokeFunction('convertToInteractive',\n",
              "                                                     [key], {});\n",
              "          if (!dataTable) return;\n",
              "\n",
              "          const docLinkHtml = 'Like what you see? Visit the ' +\n",
              "            '<a target=\"_blank\" href=https://colab.research.google.com/notebooks/data_table.ipynb>data table notebook</a>'\n",
              "            + ' to learn more about interactive tables.';\n",
              "          element.innerHTML = '';\n",
              "          dataTable['output_type'] = 'display_data';\n",
              "          await google.colab.output.renderOutput(dataTable, element);\n",
              "          const docLink = document.createElement('div');\n",
              "          docLink.innerHTML = docLinkHtml;\n",
              "          element.appendChild(docLink);\n",
              "        }\n",
              "      </script>\n",
              "    </div>\n",
              "  </div>\n",
              "  "
            ]
          },
          "metadata": {},
          "execution_count": 76
        }
      ]
    },
    {
      "cell_type": "code",
      "source": [
        "X_train, X_test, y_train, y_test = train_test_split(data2.iloc[:, :-1], data2.iloc[:, -1], test_size=0.33, random_state=42)"
      ],
      "metadata": {
        "id": "M9uaheYEZ32o"
      },
      "execution_count": null,
      "outputs": []
    },
    {
      "cell_type": "code",
      "source": [
        "neuron = Neuron()\n",
        "loss_values = neuron.fit(X_train.values, y_train.values.reshape(-1, 1))"
      ],
      "metadata": {
        "id": "0hjjDtzuaJTA"
      },
      "execution_count": null,
      "outputs": []
    },
    {
      "cell_type": "code",
      "source": [
        "plt.figure(figsize=(10, 8))\n",
        "plt.plot(Loss_values)\n",
        "plt.title('Функция потерь', fontsize=15)\n",
        "plt.xlabel('номер итерации', fontsize=14)\n",
        "plt.ylabel('$Loss(\\hat{y}, y)$', fontsize=14)\n",
        "plt.show()"
      ],
      "metadata": {
        "colab": {
          "base_uri": "https://localhost:8080/",
          "height": 519
        },
        "id": "pgRomcwNad8j",
        "outputId": "35d19eee-304e-402c-d3e0-6fde64d07dd4"
      },
      "execution_count": null,
      "outputs": [
        {
          "output_type": "display_data",
          "data": {
            "text/plain": [
              "<Figure size 720x576 with 1 Axes>"
            ],
            "image/png": "[encoded data removed]"
          },
          "metadata": {
            "needs_background": "light"
          }
        }
      ]
    },
    {
      "cell_type": "code",
      "source": [
        "best_threshold, metrics = findMetrics(neuron, X_test.values, y_test.values)\n",
        "\n",
        "print(\"Best threshold:\", best_threshold.round(1))\n",
        "pd.DataFrame(metrics[-1][1]).T"
      ],
      "metadata": {
        "colab": {
          "base_uri": "https://localhost:8080/",
          "height": 224
        },
        "id": "B7an1voma3gm",
        "outputId": "7d5ac896-01df-4018-d560-d15a76afc4f5"
      },
      "execution_count": null,
      "outputs": [
        {
          "output_type": "stream",
          "name": "stdout",
          "text": [
            "Best threshold: 0.5\n"
          ]
        },
        {
          "output_type": "execute_result",
          "data": {
            "text/plain": [
              "              precision    recall  f1-score      support\n",
              "0.0            0.977505  0.957916  0.967611   499.000000\n",
              "1.0            0.962298  0.979890  0.971014   547.000000\n",
              "accuracy       0.969407  0.969407  0.969407     0.969407\n",
              "macro avg      0.969902  0.968903  0.969313  1046.000000\n",
              "weighted avg   0.969553  0.969407  0.969391  1046.000000"
            ],
            "text/html": [
              "\n",
              "  <div id=\"df-139484a3-5560-42de-8530-3d3fec41eded\">\n",
              "    <div class=\"colab-df-container\">\n",
              "      <div>\n",
              "<style scoped>\n",
              "    .dataframe tbody tr th:only-of-type {\n",
              "        vertical-align: middle;\n",
              "    }\n",
              "\n",
              "    .dataframe tbody tr th {\n",
              "        vertical-align: top;\n",
              "    }\n",
              "\n",
              "    .dataframe thead th {\n",
              "        text-align: right;\n",
              "    }\n",
              "</style>\n",
              "<table border=\"1\" class=\"dataframe\">\n",
              "  <thead>\n",
              "    <tr style=\"text-align: right;\">\n",
              "      <th></th>\n",
              "      <th>precision</th>\n",
              "      <th>recall</th>\n",
              "      <th>f1-score</th>\n",
              "      <th>support</th>\n",
              "    </tr>\n",
              "  </thead>\n",
              "  <tbody>\n",
              "    <tr>\n",
              "      <th>0.0</th>\n",
              "      <td>0.977505</td>\n",
              "      <td>0.957916</td>\n",
              "      <td>0.967611</td>\n",
              "      <td>499.000000</td>\n",
              "    </tr>\n",
              "    <tr>\n",
              "      <th>1.0</th>\n",
              "      <td>0.962298</td>\n",
              "      <td>0.979890</td>\n",
              "      <td>0.971014</td>\n",
              "      <td>547.000000</td>\n",
              "    </tr>\n",
              "    <tr>\n",
              "      <th>accuracy</th>\n",
              "      <td>0.969407</td>\n",
              "      <td>0.969407</td>\n",
              "      <td>0.969407</td>\n",
              "      <td>0.969407</td>\n",
              "    </tr>\n",
              "    <tr>\n",
              "      <th>macro avg</th>\n",
              "      <td>0.969902</td>\n",
              "      <td>0.968903</td>\n",
              "      <td>0.969313</td>\n",
              "      <td>1046.000000</td>\n",
              "    </tr>\n",
              "    <tr>\n",
              "      <th>weighted avg</th>\n",
              "      <td>0.969553</td>\n",
              "      <td>0.969407</td>\n",
              "      <td>0.969391</td>\n",
              "      <td>1046.000000</td>\n",
              "    </tr>\n",
              "  </tbody>\n",
              "</table>\n",
              "</div>\n",
              "      <button class=\"colab-df-convert\" onclick=\"convertToInteractive('df-139484a3-5560-42de-8530-3d3fec41eded')\"\n",
              "              title=\"Convert this dataframe to an interactive table.\"\n",
              "              style=\"display:none;\">\n",
              "        \n",
              "  <svg xmlns=\"http://www.w3.org/2000/svg\" height=\"24px\"viewBox=\"0 0 24 24\"\n",
              "       width=\"24px\">\n",
              "    <path d=\"M0 0h24v24H0V0z\" fill=\"none\"/>\n",
              "    <path d=\"M18.56 5.44l.94 2.06.94-2.06 2.06-.94-2.06-.94-.94-2.06-.94 2.06-2.06.94zm-11 1L8.5 8.5l.94-2.06 2.06-.94-2.06-.94L8.5 2.5l-.94 2.06-2.06.94zm10 10l.94 2.06.94-2.06 2.06-.94-2.06-.94-.94-2.06-.94 2.06-2.06.94z\"/><path d=\"M17.41 7.96l-1.37-1.37c-.4-.4-.92-.59-1.43-.59-.52 0-1.04.2-1.43.59L10.3 9.45l-7.72 7.72c-.78.78-.78 2.05 0 2.83L4 21.41c.39.39.9.59 1.41.59.51 0 1.02-.2 1.41-.59l7.78-7.78 2.81-2.81c.8-.78.8-2.07 0-2.86zM5.41 20L4 18.59l7.72-7.72 1.47 1.35L5.41 20z\"/>\n",
              "  </svg>\n",
              "      </button>\n",
              "      \n",
              "  <style>\n",
              "    .colab-df-container {\n",
              "      display:flex;\n",
              "      flex-wrap:wrap;\n",
              "      gap: 12px;\n",
              "    }\n",
              "\n",
              "    .colab-df-convert {\n",
              "      background-color: #E8F0FE;\n",
              "      border: none;\n",
              "      border-radius: 50%;\n",
              "      cursor: pointer;\n",
              "      display: none;\n",
              "      fill: #1967D2;\n",
              "      height: 32px;\n",
              "      padding: 0 0 0 0;\n",
              "      width: 32px;\n",
              "    }\n",
              "\n",
              "    .colab-df-convert:hover {\n",
              "      background-color: #E2EBFA;\n",
              "      box-shadow: 0px 1px 2px rgba(60, 64, 67, 0.3), 0px 1px 3px 1px rgba(60, 64, 67, 0.15);\n",
              "      fill: #174EA6;\n",
              "    }\n",
              "\n",
              "    [theme=dark] .colab-df-convert {\n",
              "      background-color: #3B4455;\n",
              "      fill: #D2E3FC;\n",
              "    }\n",
              "\n",
              "    [theme=dark] .colab-df-convert:hover {\n",
              "      background-color: #434B5C;\n",
              "      box-shadow: 0px 1px 3px 1px rgba(0, 0, 0, 0.15);\n",
              "      filter: drop-shadow(0px 1px 2px rgba(0, 0, 0, 0.3));\n",
              "      fill: #FFFFFF;\n",
              "    }\n",
              "  </style>\n",
              "\n",
              "      <script>\n",
              "        const buttonEl =\n",
              "          document.querySelector('#df-139484a3-5560-42de-8530-3d3fec41eded button.colab-df-convert');\n",
              "        buttonEl.style.display =\n",
              "          google.colab.kernel.accessAllowed ? 'block' : 'none';\n",
              "\n",
              "        async function convertToInteractive(key) {\n",
              "          const element = document.querySelector('#df-139484a3-5560-42de-8530-3d3fec41eded');\n",
              "          const dataTable =\n",
              "            await google.colab.kernel.invokeFunction('convertToInteractive',\n",
              "                                                     [key], {});\n",
              "          if (!dataTable) return;\n",
              "\n",
              "          const docLinkHtml = 'Like what you see? Visit the ' +\n",
              "            '<a target=\"_blank\" href=https://colab.research.google.com/notebooks/data_table.ipynb>data table notebook</a>'\n",
              "            + ' to learn more about interactive tables.';\n",
              "          element.innerHTML = '';\n",
              "          dataTable['output_type'] = 'display_data';\n",
              "          await google.colab.output.renderOutput(dataTable, element);\n",
              "          const docLink = document.createElement('div');\n",
              "          docLink.innerHTML = docLinkHtml;\n",
              "          element.appendChild(docLink);\n",
              "        }\n",
              "      </script>\n",
              "    </div>\n",
              "  </div>\n",
              "  "
            ]
          },
          "metadata": {},
          "execution_count": 80
        }
      ]
    }
  ]
}